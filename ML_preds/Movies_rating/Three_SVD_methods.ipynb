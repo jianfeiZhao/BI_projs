{
  "nbformat": 4,
  "nbformat_minor": 0,
  "metadata": {
    "colab": {
      "name": "Three_SVD_methods.ipynb",
      "provenance": [],
      "include_colab_link": true
    },
    "kernelspec": {
      "name": "python3",
      "display_name": "Python 3"
    },
    "accelerator": "GPU"
  },
  "cells": [
    {
      "cell_type": "markdown",
      "metadata": {
        "id": "view-in-github",
        "colab_type": "text"
      },
      "source": [
        "<a href=\"https://colab.research.google.com/github/jianfeiZhao/BI_projs/blob/master/Three_SVD_methods.ipynb\" target=\"_parent\"><img src=\"https://colab.research.google.com/assets/colab-badge.svg\" alt=\"Open In Colab\"/></a>"
      ]
    },
    {
      "cell_type": "markdown",
      "metadata": {
        "id": "EQGR1nBgVePX",
        "colab_type": "text"
      },
      "source": [
        "##对MovieLens数据集进行评分预测，计算RMSE（使用funkSVD, BiasSVD，SVD++）"
      ]
    },
    {
      "cell_type": "code",
      "metadata": {
        "id": "_xXRXEj1WU78",
        "colab_type": "code",
        "colab": {
          "base_uri": "https://localhost:8080/",
          "height": 328
        },
        "outputId": "5f2a59ff-40f3-4e96-fdc8-7c1191086737"
      },
      "source": [
        "!pip install surprise"
      ],
      "execution_count": null,
      "outputs": [
        {
          "output_type": "stream",
          "text": [
            "Collecting surprise\n",
            "  Downloading https://files.pythonhosted.org/packages/61/de/e5cba8682201fcf9c3719a6fdda95693468ed061945493dea2dd37c5618b/surprise-0.1-py2.py3-none-any.whl\n",
            "Collecting scikit-surprise\n",
            "\u001b[?25l  Downloading https://files.pythonhosted.org/packages/f5/da/b5700d96495fb4f092be497f02492768a3d96a3f4fa2ae7dea46d4081cfa/scikit-surprise-1.1.0.tar.gz (6.4MB)\n",
            "\u001b[K     |████████████████████████████████| 6.5MB 4.6MB/s \n",
            "\u001b[?25hRequirement already satisfied: joblib>=0.11 in /usr/local/lib/python3.6/dist-packages (from scikit-surprise->surprise) (0.15.1)\n",
            "Requirement already satisfied: numpy>=1.11.2 in /usr/local/lib/python3.6/dist-packages (from scikit-surprise->surprise) (1.18.4)\n",
            "Requirement already satisfied: scipy>=1.0.0 in /usr/local/lib/python3.6/dist-packages (from scikit-surprise->surprise) (1.4.1)\n",
            "Requirement already satisfied: six>=1.10.0 in /usr/local/lib/python3.6/dist-packages (from scikit-surprise->surprise) (1.12.0)\n",
            "Building wheels for collected packages: scikit-surprise\n",
            "  Building wheel for scikit-surprise (setup.py) ... \u001b[?25l\u001b[?25hdone\n",
            "  Created wheel for scikit-surprise: filename=scikit_surprise-1.1.0-cp36-cp36m-linux_x86_64.whl size=1675380 sha256=d6b0fb9dfb76320c2a7b22eadb75b2898ecd8502149306a5685feb5c95d1a5ab\n",
            "  Stored in directory: /root/.cache/pip/wheels/cc/fa/8c/16c93fccce688ae1bde7d979ff102f7bee980d9cfeb8641bcf\n",
            "Successfully built scikit-surprise\n",
            "Installing collected packages: scikit-surprise, surprise\n",
            "Successfully installed scikit-surprise-1.1.0 surprise-0.1\n"
          ],
          "name": "stdout"
        }
      ]
    },
    {
      "cell_type": "code",
      "metadata": {
        "id": "95p91Hr_4Zra",
        "colab_type": "code",
        "colab": {
          "base_uri": "https://localhost:8080/",
          "height": 290
        },
        "outputId": "a79ffef6-1f6e-4258-c31b-43320abbc5c6"
      },
      "source": [
        "# Action 2\n",
        "from surprise import Dataset\n",
        "from surprise import Reader\n",
        "from surprise.prediction_algorithms.matrix_factorization import SVD, SVDpp\n",
        "from surprise import accuracy\n",
        "from surprise.model_selection import KFold\n",
        "\n",
        "# 数据读取\n",
        "reader = Reader(line_format='user item rating timestamp', sep=',', skip_lines=1)\n",
        "data = Dataset.load_from_file('/content/drive/My Drive/Colab Notebooks/data/ratings.csv', reader=reader)\n",
        "train_set = data.build_full_trainset()\n",
        "\n",
        "# 定义K折交叉验证迭代器，K=3\n",
        "kf = KFold(n_splits=3)\n",
        "\n",
        "# 需要预测的用户和电影\n",
        "uid = str(196)\n",
        "iid = str(302)\n",
        "\n",
        "# 使用funkSVD\n",
        "algo = SVD(biased=False)\n",
        "for trainset, testset in kf.split(data):\n",
        "    algo.fit(trainset)\n",
        "    predictions = algo.test(testset)\n",
        "    accuracy.rmse(predictions, verbose=True)\n",
        "# 输出uid对iid的预测结果\n",
        "print('使用funkSVD：')\n",
        "pred = algo.predict(uid, iid, r_ui=4, verbose=True)\n",
        "\n",
        "# 使用biasSVD\n",
        "algo1 = SVD(biased=True)\n",
        "for trainset, testset in kf.split(data):\n",
        "    algo1.fit(trainset)\n",
        "    predictions = algo1.test(testset)\n",
        "    accuracy.rmse(predictions, verbose=True)\n",
        "print('使用biasSVD：')\n",
        "pred = algo1.predict(uid, iid, r_ui=4, verbose=True)\n",
        "\n",
        "# 使用SVD++\n",
        "algo2 = SVDpp(n_factors=10, n_epochs=10)\n",
        "for trainset, testset in kf.split(data):\n",
        "    algo2.fit(trainset)\n",
        "    predictions = algo2.test(testset)\n",
        "    accuracy.rmse(predictions, verbose=True)\n",
        "print('使用SVD++：')\n",
        "pred = algo2.predict(uid, iid, r_ui=4, verbose=True)"
      ],
      "execution_count": null,
      "outputs": [
        {
          "output_type": "stream",
          "text": [
            "RMSE: 0.8734\n",
            "RMSE: 0.8709\n",
            "RMSE: 0.8725\n",
            "使用funkSVD：\n",
            "user: 196        item: 302        r_ui = 4.00   est = 4.43   {'was_impossible': False}\n",
            "RMSE: 0.8468\n",
            "RMSE: 0.8467\n",
            "RMSE: 0.8420\n",
            "使用biasSVD：\n",
            "user: 196        item: 302        r_ui = 4.00   est = 4.28   {'was_impossible': False}\n",
            "RMSE: 0.8431\n",
            "RMSE: 0.8393\n",
            "RMSE: 0.8396\n",
            "使用SVD++：\n",
            "user: 196        item: 302        r_ui = 4.00   est = 4.11   {'was_impossible': False}\n"
          ],
          "name": "stdout"
        }
      ]
    },
    {
      "cell_type": "code",
      "metadata": {
        "id": "ogxj5jq0WqN8",
        "colab_type": "code",
        "colab": {}
      },
      "source": [
        ""
      ],
      "execution_count": null,
      "outputs": []
    }
  ]
}
