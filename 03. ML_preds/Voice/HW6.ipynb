{
 "cells": [
  {
   "cell_type": "markdown",
   "metadata": {},
   "source": [
    "Thinking 1: XGBoost生成CART树考虑了树的复杂度，GDBT未考虑；XGBoost是拟合上一轮损失函数的二阶导展开，GDBT是拟合上一轮损失函数的一阶导展开，因此XGBoost的准确性更高，且满足相同的训练效果需要的迭代次数更少；XGboost支持并行计算，GBDT只能串行计算。\n",
    "\n",
    "Thinking 2: 搭建过三层神经网络，对FashionMNIST数据集作过分类预测。\n",
    "\n",
    "Thinking 3: 在工作中，需要构建用户画像，其中包含年龄、性别、地域、收入、学历、职业等维度；用户行为特征，包含时间段、频次、时长、收藏、点击、喜欢、评分等维度；用户消费特征，包含消费习惯、购买意向、是否对促销敏感等维度；Item特征，包含分类、评分、生产商、产地等维度。"
   ]
  },
  {
   "cell_type": "code",
   "execution_count": 2,
   "metadata": {
    "tags": []
   },
   "outputs": [
    {
     "output_type": "stream",
     "name": "stdout",
     "text": "样本数：3168\n男性个数：1584\n女性个数：1584\n"
    }
   ],
   "source": [
    "import pandas as pd\n",
    "import numpy as np\n",
    "\n",
    "df = pd.read_csv('C:/Desktop/开课吧/BI_core/L06/voice/voice.csv')\n",
    "'''\n",
    "df.head()\n",
    "df.info()\n",
    "df.corr()\n",
    "'''\n",
    "print('样本数：{}'.format(df.shape[0]))\n",
    "print('男性个数：{}'.format(df[df.label=='male'].shape[0]))\n",
    "print('女性个数：{}'.format(df[df.label=='female'].shape[0]))"
   ]
  },
  {
   "cell_type": "code",
   "execution_count": 5,
   "metadata": {
    "tags": []
   },
   "outputs": [
    {
     "output_type": "stream",
     "name": "stdout",
     "text": "SVM准确率： 0.6876971608832808\nLinear SVM准确率： 0.9353312302839116\nLR准确率： 0.917981072555205\nKNN准确率： 0.7003154574132492\nNaive Bayes准确率： 0.8943217665615142\nRandom Forest准确率： 0.9842271293375394\n"
    }
   ],
   "source": [
    "# 分割特征和target\n",
    "X = df.iloc[:, :-1]\n",
    "#print(X.head())\n",
    "\n",
    "# 特征编码\n",
    "from sklearn.preprocessing import LabelEncoder\n",
    "gender_enc = LabelEncoder()\n",
    "y = df.iloc[:,-1]\n",
    "y = gender_enc.fit_transform(y)\n",
    "#print(y)\n",
    "\n",
    "# 数据规范化\n",
    "from sklearn.preprocessing import StandardScaler\n",
    "scaler = StandardScaler()\n",
    "scaler.fit_transform(X)\n",
    "#X.head()\n",
    "\n",
    "from sklearn.model_selection import train_test_split\n",
    "X_train, X_test, y_train, y_test = train_test_split(X,y,test_size=0.2)\n",
    "\n",
    "from sklearn.svm import SVC\n",
    "from sklearn import metrics\n",
    "from sklearn.linear_model import LogisticRegression\n",
    "from sklearn.neighbors import KNeighborsClassifier\n",
    "from sklearn.naive_bayes import GaussianNB\n",
    "from sklearn.ensemble import RandomForestClassifier\n",
    "svc = SVC()\n",
    "svc.fit(X_train, y_train)\n",
    "y_pred = svc.predict(X_test)\n",
    "print('SVM准确率：', metrics.accuracy_score(y_test, y_pred))\n",
    "\n",
    "svc = SVC(kernel = 'linear')\n",
    "svc.fit(X_train, y_train)\n",
    "y_pred = svc.predict(X_test)\n",
    "print('Linear SVM准确率：', metrics.accuracy_score(y_test, y_pred))\n",
    "\n",
    "lr = LogisticRegression()\n",
    "lr.fit(X_train, y_train)\n",
    "y_pred = lr.predict(X_test)\n",
    "print('LR准确率：', metrics.accuracy_score(y_test, y_pred))\n",
    "\n",
    "knn = KNeighborsClassifier()\n",
    "knn.fit(X_train, y_train)\n",
    "y_pred = knn.predict(X_test)\n",
    "print('KNN准确率：', metrics.accuracy_score(y_test, y_pred))\n",
    "\n",
    "bayes = GaussianNB()\n",
    "bayes.fit(X_train, y_train)\n",
    "y_pred = bayes.predict(X_test)\n",
    "print('Naive Bayes准确率：', metrics.accuracy_score(y_test, y_pred))\n",
    "\n",
    "rf = RandomForestClassifier()\n",
    "rf.fit(X_train, y_train)\n",
    "y_pred = rf.predict(X_test)\n",
    "print('Random Forest准确率：', metrics.accuracy_score(y_test, y_pred))"
   ]
  },
  {
   "cell_type": "code",
   "execution_count": 24,
   "metadata": {
    "tags": []
   },
   "outputs": [
    {
     "output_type": "stream",
     "name": "stdout",
     "text": "AdaBoost准确率： 0.9716088328075709\nDecisionTree准确率： 0.9605678233438486\n"
    }
   ],
   "source": [
    "from sklearn.ensemble import AdaBoostClassifier\n",
    "from sklearn.tree import DecisionTreeClassifier\n",
    "\n",
    "ada = AdaBoostClassifier()\n",
    "ada.fit(X_train, y_train)\n",
    "y_pred = ada.predict(X_test)\n",
    "print('AdaBoost准确率：', metrics.accuracy_score(y_test, y_pred))\n",
    "\n",
    "tree = DecisionTreeClassifier()\n",
    "tree.fit(X_train, y_train)\n",
    "y_pred = tree.predict(X_test)\n",
    "print('DecisionTree准确率：', metrics.accuracy_score(y_test, y_pred))"
   ]
  },
  {
   "cell_type": "markdown",
   "metadata": {},
   "source": [
    "Top 3: Random Forest, AdaBoost, Decision Tree"
   ]
  },
  {
   "cell_type": "code",
   "execution_count": 4,
   "metadata": {
    "tags": []
   },
   "outputs": [
    {
     "output_type": "stream",
     "name": "stdout",
     "text": "Warning: xgboost.XGBClassifier is not available and will not be used by TPOT.\nOptimization Progress:  33%|███▎      | 40/120 [00:44<01:57,  1.47s/pipeline]\nOptimization Progress:  50%|█████     | 60/120 [01:33<01:57,  1.96s/pipeline]\nOptimization Progress:  67%|██████▋   | 80/120 [02:55<01:38,  2.46s/pipeline]\nOptimization Progress:  83%|████████▎ | 100/120 [04:51<02:15,  6.76s/pipeline]\nOptimization Progress: 100%|██████████| 120/120 [06:43<00:00,  5.73s/pipeline]\nGeneration 5 - Current best internal CV score: 0.9798723016114321\nBest pipeline: GradientBoostingClassifier(DecisionTreeClassifier(PolynomialFeatures(input_matrix, degree=2, include_bias=False, interaction_only=False), criterion=gini, max_depth=8, min_samples_leaf=15, min_samples_split=6), learning_rate=1.0, max_depth=10, max_features=0.05, min_samples_leaf=14, min_samples_split=8, n_estimators=100, subsample=0.7500000000000001)\n0.9889589905362776\n"
    }
   ],
   "source": [
    "from tpot import TPOTClassifier\n",
    "tpot = TPOTClassifier(generations=5, population_size=20, verbosity=2)\n",
    "tpot.fit(X_train, y_train)\n",
    "print(tpot.score(X_test, y_test))\n",
    "tpot.export('tpot_pipeline.py')"
   ]
  },
  {
   "cell_type": "code",
   "execution_count": null,
   "metadata": {},
   "outputs": [],
   "source": []
  }
 ],
 "metadata": {
  "language_info": {
   "codemirror_mode": {
    "name": "ipython",
    "version": 3
   },
   "file_extension": ".py",
   "mimetype": "text/x-python",
   "name": "python",
   "nbconvert_exporter": "python",
   "pygments_lexer": "ipython3",
   "version": "3.7.1-final"
  },
  "orig_nbformat": 2,
  "kernelspec": {
   "name": "python37132bitbasecondac57ed9f10db04ac8b75f9259c7f2062d",
   "display_name": "Python 3.7.1 32-bit ('base': conda)"
  }
 },
 "nbformat": 4,
 "nbformat_minor": 2
}
