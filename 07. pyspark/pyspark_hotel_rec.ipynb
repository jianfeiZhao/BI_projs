{
  "nbformat": 4,
  "nbformat_minor": 0,
  "metadata": {
    "colab": {
      "name": "pyspark_hotel_rec.ipynb",
      "provenance": [],
      "collapsed_sections": [],
      "authorship_tag": "ABX9TyMLAZajygwmjbMzEkXEe+gE",
      "include_colab_link": true
    },
    "kernelspec": {
      "name": "python3",
      "display_name": "Python 3"
    }
  },
  "cells": [
    {
      "cell_type": "markdown",
      "metadata": {
        "id": "view-in-github",
        "colab_type": "text"
      },
      "source": [
        "<a href=\"https://colab.research.google.com/github/jianfeiZhao/BI_projs/blob/master/pyspark_hotel_rec.ipynb\" target=\"_parent\"><img src=\"https://colab.research.google.com/assets/colab-badge.svg\" alt=\"Open In Colab\"/></a>"
      ]
    },
    {
      "cell_type": "code",
      "metadata": {
        "id": "kvfKJiFJPkHB",
        "colab_type": "code",
        "colab": {
          "base_uri": "https://localhost:8080/",
          "height": 53
        },
        "outputId": "92364f94-30e0-4ff8-b7c8-fa51ba34a7c2"
      },
      "source": [
        "!pip install pyspark"
      ],
      "execution_count": 28,
      "outputs": [
        {
          "output_type": "stream",
          "text": [
            "Requirement already satisfied: pyspark in /usr/local/lib/python3.6/dist-packages (3.0.0)\n",
            "Requirement already satisfied: py4j==0.10.9 in /usr/local/lib/python3.6/dist-packages (from pyspark) (0.10.9)\n"
          ],
          "name": "stdout"
        }
      ]
    },
    {
      "cell_type": "code",
      "metadata": {
        "id": "6x0T-83svJ_9",
        "colab_type": "code",
        "colab": {
          "base_uri": "https://localhost:8080/",
          "height": 254
        },
        "outputId": "e886edb0-7f8d-429c-cd66-00c6b154928d"
      },
      "source": [
        "# 使用pyspark计算文档的TFIDF\n",
        "from pyspark.sql import SparkSession\n",
        "from pyspark.ml.feature import Tokenizer, StopWordsRemover\n",
        "from pyspark.ml.feature import HashingTF, IDF\n",
        "#from pyspark.ml.feature import NGram\n",
        "\n",
        "# 创建SparkSession，2.0版本之后只需要创建一个SparkSession即可\n",
        "spark=SparkSession \\\n",
        "        .builder \\\n",
        "        .appName('tfidf_app') \\\n",
        "        .getOrCreate()\n",
        "\n",
        "# 加载数据\n",
        "df0 = spark.read.csv(\"Seattle_Hotels.csv\", header=True, inferSchema=True)\n",
        "df0.show(6)\n",
        "print('数据集中的酒店个数：',df0.count())"
      ],
      "execution_count": 29,
      "outputs": [
        {
          "output_type": "stream",
          "text": [
            "+---+--------------------+--------------------+--------------------+\n",
            "| id|                name|             address|                desc|\n",
            "+---+--------------------+--------------------+--------------------+\n",
            "|  1|Hilton Garden Sea...|1821 Boren Avenue...|Located on the so...|\n",
            "|  2|Sheraton Grand Se...|1400 6th Avenue, ...|Located in the ci...|\n",
            "|  3|Crowne Plaza Seat...|1113 6th Ave, Sea...|Located in the he...|\n",
            "|  4|Kimpton Hotel Mon...|1101 4th Ave, Sea...|What?s near our h...|\n",
            "|  5|  The Westin Seattle|1900 5th Avenue,�...|Situated amid inc...|\n",
            "|  6|The Paramount Hot...|724 Pine Street, ...|More than just a ...|\n",
            "+---+--------------------+--------------------+--------------------+\n",
            "only showing top 6 rows\n",
            "\n",
            "数据集中的酒店个数： 152\n"
          ],
          "name": "stdout"
        }
      ]
    },
    {
      "cell_type": "code",
      "metadata": {
        "id": "BiuzpvLlVjn8",
        "colab_type": "code",
        "colab": {
          "base_uri": "https://localhost:8080/",
          "height": 308
        },
        "outputId": "45e0418f-4e74-4593-c3ba-503aa0f16eba"
      },
      "source": [
        "# 将desc分词\n",
        "tokenizer = Tokenizer(inputCol='desc', outputCol='desc_words')\n",
        "df = tokenizer.transform(df0)\n",
        "#df.show()\n",
        "#df.select('desc_words').show(6)\n",
        "\n",
        "# 去停用词\n",
        "stopwords = ['the', 'of', 'in', 'a', 'an', 'at', 'as', 'on', 'for',\\\n",
        "       'it', 'we', 'you', 'want', 'up', 'to', 'if', 'are', 'is',\\\n",
        "        'and', 'our', 'with', 'from', '-', 'your', 'so']\n",
        "stopwords_remover = StopWordsRemover(inputCol='desc_words', outputCol='desc_remv').setStopWords(stopwords)\n",
        "df = stopwords_remover.transform(df)\n",
        "\n",
        "# 计算TF-IDF\n",
        "hashingTF = HashingTF(inputCol='desc_remv', outputCol='desc_words_tf')\n",
        "tf = hashingTF.transform(df).cache()\n",
        "idf = IDF(inputCol='desc_words_tf', outputCol='desc_words_tfidf').fit(tf)\n",
        "tfidf = idf.transform(tf).cache()\n",
        "#print('每个酒店的tfidf', tfidf.select('desc_words_tfidf').show(6,truncate=False))\n",
        "\n",
        "# 数据规范化\n",
        "from pyspark.ml.feature import Normalizer\n",
        "normalizer = Normalizer(inputCol=\"desc_words_tfidf\", outputCol=\"norm\")\n",
        "tfidf = normalizer.transform(tfidf)\n",
        "#tfidf.select(\"id\", \"norm\").show(6)\n",
        "\n",
        "# 计算各个酒店之间的相似度\n",
        "import pyspark.sql.functions as psf \n",
        "from pyspark.sql.types import DoubleType\n",
        "dot_udf = psf.udf(lambda x,y: float(x.dot(y)), DoubleType()) # 自定义点乘函数\n",
        "tfidf = tfidf.alias(\"a1\").join(tfidf.alias(\"a2\"), psf.col(\"a1.id\") < psf.col(\"a2.id\"))\\\n",
        "        .select(\n",
        "            psf.col(\"a1.name\"),\n",
        "            psf.col(\"a1.id\").alias(\"id1\"), \n",
        "            psf.col(\"a2.id\").alias(\"id2\"), \n",
        "            dot_udf(\"a1.norm\", \"a2.norm\").alias(\"similarity\"))\\\n",
        "        .sort(\"id1\", \"id2\")\n",
        "tfidf.show(10)"
      ],
      "execution_count": 30,
      "outputs": [
        {
          "output_type": "stream",
          "text": [
            "+--------------------+---+---+--------------------+\n",
            "|                name|id1|id2|          similarity|\n",
            "+--------------------+---+---+--------------------+\n",
            "|Hilton Garden Sea...|  1|  2|0.027762951889516864|\n",
            "|Hilton Garden Sea...|  1|  3| 0.03293087162593186|\n",
            "|Hilton Garden Sea...|  1|  4|0.016296905517573637|\n",
            "|Hilton Garden Sea...|  1|  5|0.061953533294186125|\n",
            "|Hilton Garden Sea...|  1|  6|0.026031641494299346|\n",
            "|Hilton Garden Sea...|  1|  7| 0.06286237883702435|\n",
            "|Hilton Garden Sea...|  1|  8|0.030473799292964114|\n",
            "|Hilton Garden Sea...|  1|  9|0.014074389630803305|\n",
            "|Hilton Garden Sea...|  1| 10| 0.04236071927221931|\n",
            "|Hilton Garden Sea...|  1| 11| 0.03481589805978849|\n",
            "+--------------------+---+---+--------------------+\n",
            "only showing top 10 rows\n",
            "\n"
          ],
          "name": "stdout"
        }
      ]
    },
    {
      "cell_type": "code",
      "metadata": {
        "id": "Qtl6enVfTAJB",
        "colab_type": "code",
        "colab": {
          "base_uri": "https://localhost:8080/",
          "height": 563
        },
        "outputId": "babc3a3b-0b57-47ba-c460-cbfe4e2fcc82"
      },
      "source": [
        "# 基于相似度和指定的酒店name，推荐TOP10酒店\n",
        "def recommendations(name):\n",
        "    temp = tfidf.where('name=\"'+name+'\"').sort('similarity', ascending=False).limit(10)\n",
        "    temp = temp.drop('name')\n",
        "    rec = df0.join(temp, df0.id==temp.id2).sort('similarity', ascending=False)\n",
        "    return rec.select('id','name','address','desc','similarity').show()\n",
        "\n",
        "rec = recommendations('Hilton Seattle Airport & Conference Center')\n",
        "rec = recommendations('The Bacon Mansion Bed and Breakfast')"
      ],
      "execution_count": 41,
      "outputs": [
        {
          "output_type": "stream",
          "text": [
            "+---+--------------------+--------------------+--------------------+-------------------+\n",
            "| id|                name|             address|                desc|         similarity|\n",
            "+---+--------------------+--------------------+--------------------+-------------------+\n",
            "| 63|Embassy Suites by...|15920 W Valley Hw...|The Embassy Suite...| 0.1292847349555283|\n",
            "| 53|DoubleTree by Hil...|18740 Internation...|Welcome to Double...|0.11942642456944962|\n",
            "|104|Four Points by Sh...|601 Roy St, Seatt...|Where the Action ...|0.09185925317552458|\n",
            "| 58|Red Lion Hotel Se...|18220 Internation...|Welcome to Red Li...|0.09126698760167487|\n",
            "| 72|Econo Lodge SeaTa...|13910 Tukwila Int...|Our Econo Lodge�S...|0.07586577219261216|\n",
            "| 52|Radisson Hotel Se...|18118 Internation...|Located across th...|0.07292031513026236|\n",
            "|147|Hampton Inn Seatt...|7200 S 156th St, ...|Stay in comfort a...|0.07108287270117035|\n",
            "| 57|Best Western Seat...|20717 Internation...|Enjoy convenient ...| 0.0698914928810006|\n",
            "| 64|Home2 Suites by H...|380 Upland Dr, Tu...|Enjoy all the com...|0.06913155253174012|\n",
            "|135|      Inn at the WAC|1325 6th Ave, Sea...|Retreat to our fu...|0.06301167796597816|\n",
            "+---+--------------------+--------------------+--------------------+-------------------+\n",
            "\n",
            "+---+--------------------+--------------------+--------------------+-------------------+\n",
            "| id|                name|             address|                desc|         similarity|\n",
            "+---+--------------------+--------------------+--------------------+-------------------+\n",
            "|143|11th Avenue Inn B...|121 11th Ave E, S...|Walk to the Pike ...|0.14130340781619616|\n",
            "|142|Shafer Baillie Ma...|907 14th Ave E, S...|Looking for the p...|0.08565138249429831|\n",
            "|139|Bed and Breakfast...|1808 E Denny Way,...|Located in the he...|0.08049330128622219|\n",
            "|132|        Gaslight Inn|1727 15th Ave, Se...|The Gaslight Inn,...|0.07794564413174372|\n",
            "|123|     The State Hotel|1501 2nd Ave, Sea...|Built in 1904, th...|0.07770927488600746|\n",
            "|134|WorldMark Seattle...|1619 9th Ave, Sea...|Located across th...|0.07281973421783532|\n",
            "|140|         Civic Hotel|325 7th Ave, Seat...|In the most covet...|0.05077550640606038|\n",
            "|141|Stay Alfred on El...|2334 Elliott Ave,...|Headed to Seattle...|0.04195193783075535|\n",
            "|124|         Moore Hotel|1926 2nd Ave, Sea...|Historical Hotel ...|0.04010441587671139|\n",
            "|120|The Inn at Virgin...|1006 Spring St, S...|The Inn at Virgin...|0.03387668036440986|\n",
            "+---+--------------------+--------------------+--------------------+-------------------+\n",
            "\n"
          ],
          "name": "stdout"
        }
      ]
    }
  ]
}
