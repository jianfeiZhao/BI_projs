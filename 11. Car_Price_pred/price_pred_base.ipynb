{
  "nbformat": 4,
  "nbformat_minor": 0,
  "metadata": {
    "colab": {
      "name": "price_pred_base.ipynb",
      "provenance": [],
      "collapsed_sections": []
    },
    "kernelspec": {
      "name": "python3",
      "display_name": "Python 3"
    }
  },
  "cells": [
    {
      "cell_type": "markdown",
      "metadata": {
        "id": "sdtPS-QeK_NY",
        "colab_type": "text"
      },
      "source": [
        "##二手车交易价格预测\n",
        "https://tianchi.aliyun.com/competition/entrance/231784/rankingList"
      ]
    },
    {
      "cell_type": "code",
      "metadata": {
        "id": "3WckSR4ea2-w",
        "colab_type": "code",
        "colab": {
          "base_uri": "https://localhost:8080/",
          "height": 226
        },
        "outputId": "a6fd6f1f-5d57-40ad-ac97-b5186493eac5"
      },
      "source": [
        "import pandas as pd\n",
        "import matplotlib.pyplot as plt\n",
        "import numpy as np\n",
        "\n",
        "train_data = pd.read_csv('./used_car_train.csv', sep=' ')\n",
        "test_data = pd.read_csv('./used_car_testB.csv', sep=' ')\n",
        "#print(train_data.info())\n",
        "train_data.head()"
      ],
      "execution_count": 52,
      "outputs": [
        {
          "output_type": "execute_result",
          "data": {
            "text/html": [
              "<div>\n",
              "<style scoped>\n",
              "    .dataframe tbody tr th:only-of-type {\n",
              "        vertical-align: middle;\n",
              "    }\n",
              "\n",
              "    .dataframe tbody tr th {\n",
              "        vertical-align: top;\n",
              "    }\n",
              "\n",
              "    .dataframe thead th {\n",
              "        text-align: right;\n",
              "    }\n",
              "</style>\n",
              "<table border=\"1\" class=\"dataframe\">\n",
              "  <thead>\n",
              "    <tr style=\"text-align: right;\">\n",
              "      <th></th>\n",
              "      <th>SaleID</th>\n",
              "      <th>name</th>\n",
              "      <th>regDate</th>\n",
              "      <th>model</th>\n",
              "      <th>brand</th>\n",
              "      <th>bodyType</th>\n",
              "      <th>fuelType</th>\n",
              "      <th>gearbox</th>\n",
              "      <th>power</th>\n",
              "      <th>kilometer</th>\n",
              "      <th>notRepairedDamage</th>\n",
              "      <th>regionCode</th>\n",
              "      <th>seller</th>\n",
              "      <th>offerType</th>\n",
              "      <th>creatDate</th>\n",
              "      <th>price</th>\n",
              "      <th>v_0</th>\n",
              "      <th>v_1</th>\n",
              "      <th>v_2</th>\n",
              "      <th>v_3</th>\n",
              "      <th>v_4</th>\n",
              "      <th>v_5</th>\n",
              "      <th>v_6</th>\n",
              "      <th>v_7</th>\n",
              "      <th>v_8</th>\n",
              "      <th>v_9</th>\n",
              "      <th>v_10</th>\n",
              "      <th>v_11</th>\n",
              "      <th>v_12</th>\n",
              "      <th>v_13</th>\n",
              "      <th>v_14</th>\n",
              "    </tr>\n",
              "  </thead>\n",
              "  <tbody>\n",
              "    <tr>\n",
              "      <th>0</th>\n",
              "      <td>0</td>\n",
              "      <td>736</td>\n",
              "      <td>20040402</td>\n",
              "      <td>30.0</td>\n",
              "      <td>6</td>\n",
              "      <td>1.0</td>\n",
              "      <td>0.0</td>\n",
              "      <td>0.0</td>\n",
              "      <td>60</td>\n",
              "      <td>12.5</td>\n",
              "      <td>0.0</td>\n",
              "      <td>1046</td>\n",
              "      <td>0</td>\n",
              "      <td>0</td>\n",
              "      <td>20160404</td>\n",
              "      <td>1850</td>\n",
              "      <td>43.357796</td>\n",
              "      <td>3.966344</td>\n",
              "      <td>0.050257</td>\n",
              "      <td>2.159744</td>\n",
              "      <td>1.143786</td>\n",
              "      <td>0.235676</td>\n",
              "      <td>0.101988</td>\n",
              "      <td>0.129549</td>\n",
              "      <td>0.022816</td>\n",
              "      <td>0.097462</td>\n",
              "      <td>-2.881803</td>\n",
              "      <td>2.804097</td>\n",
              "      <td>-2.420821</td>\n",
              "      <td>0.795292</td>\n",
              "      <td>0.914762</td>\n",
              "    </tr>\n",
              "    <tr>\n",
              "      <th>1</th>\n",
              "      <td>1</td>\n",
              "      <td>2262</td>\n",
              "      <td>20030301</td>\n",
              "      <td>40.0</td>\n",
              "      <td>1</td>\n",
              "      <td>2.0</td>\n",
              "      <td>0.0</td>\n",
              "      <td>0.0</td>\n",
              "      <td>0</td>\n",
              "      <td>15.0</td>\n",
              "      <td>-</td>\n",
              "      <td>4366</td>\n",
              "      <td>0</td>\n",
              "      <td>0</td>\n",
              "      <td>20160309</td>\n",
              "      <td>3600</td>\n",
              "      <td>45.305273</td>\n",
              "      <td>5.236112</td>\n",
              "      <td>0.137925</td>\n",
              "      <td>1.380657</td>\n",
              "      <td>-1.422165</td>\n",
              "      <td>0.264777</td>\n",
              "      <td>0.121004</td>\n",
              "      <td>0.135731</td>\n",
              "      <td>0.026597</td>\n",
              "      <td>0.020582</td>\n",
              "      <td>-4.900482</td>\n",
              "      <td>2.096338</td>\n",
              "      <td>-1.030483</td>\n",
              "      <td>-1.722674</td>\n",
              "      <td>0.245522</td>\n",
              "    </tr>\n",
              "    <tr>\n",
              "      <th>2</th>\n",
              "      <td>2</td>\n",
              "      <td>14874</td>\n",
              "      <td>20040403</td>\n",
              "      <td>115.0</td>\n",
              "      <td>15</td>\n",
              "      <td>1.0</td>\n",
              "      <td>0.0</td>\n",
              "      <td>0.0</td>\n",
              "      <td>163</td>\n",
              "      <td>12.5</td>\n",
              "      <td>0.0</td>\n",
              "      <td>2806</td>\n",
              "      <td>0</td>\n",
              "      <td>0</td>\n",
              "      <td>20160402</td>\n",
              "      <td>6222</td>\n",
              "      <td>45.978359</td>\n",
              "      <td>4.823792</td>\n",
              "      <td>1.319524</td>\n",
              "      <td>-0.998467</td>\n",
              "      <td>-0.996911</td>\n",
              "      <td>0.251410</td>\n",
              "      <td>0.114912</td>\n",
              "      <td>0.165147</td>\n",
              "      <td>0.062173</td>\n",
              "      <td>0.027075</td>\n",
              "      <td>-4.846749</td>\n",
              "      <td>1.803559</td>\n",
              "      <td>1.565330</td>\n",
              "      <td>-0.832687</td>\n",
              "      <td>-0.229963</td>\n",
              "    </tr>\n",
              "    <tr>\n",
              "      <th>3</th>\n",
              "      <td>3</td>\n",
              "      <td>71865</td>\n",
              "      <td>19960908</td>\n",
              "      <td>109.0</td>\n",
              "      <td>10</td>\n",
              "      <td>0.0</td>\n",
              "      <td>0.0</td>\n",
              "      <td>1.0</td>\n",
              "      <td>193</td>\n",
              "      <td>15.0</td>\n",
              "      <td>0.0</td>\n",
              "      <td>434</td>\n",
              "      <td>0</td>\n",
              "      <td>0</td>\n",
              "      <td>20160312</td>\n",
              "      <td>2400</td>\n",
              "      <td>45.687478</td>\n",
              "      <td>4.492574</td>\n",
              "      <td>-0.050616</td>\n",
              "      <td>0.883600</td>\n",
              "      <td>-2.228079</td>\n",
              "      <td>0.274293</td>\n",
              "      <td>0.110300</td>\n",
              "      <td>0.121964</td>\n",
              "      <td>0.033395</td>\n",
              "      <td>0.000000</td>\n",
              "      <td>-4.509599</td>\n",
              "      <td>1.285940</td>\n",
              "      <td>-0.501868</td>\n",
              "      <td>-2.438353</td>\n",
              "      <td>-0.478699</td>\n",
              "    </tr>\n",
              "    <tr>\n",
              "      <th>4</th>\n",
              "      <td>4</td>\n",
              "      <td>111080</td>\n",
              "      <td>20120103</td>\n",
              "      <td>110.0</td>\n",
              "      <td>5</td>\n",
              "      <td>1.0</td>\n",
              "      <td>0.0</td>\n",
              "      <td>0.0</td>\n",
              "      <td>68</td>\n",
              "      <td>5.0</td>\n",
              "      <td>0.0</td>\n",
              "      <td>6977</td>\n",
              "      <td>0</td>\n",
              "      <td>0</td>\n",
              "      <td>20160313</td>\n",
              "      <td>5200</td>\n",
              "      <td>44.383511</td>\n",
              "      <td>2.031433</td>\n",
              "      <td>0.572169</td>\n",
              "      <td>-1.571239</td>\n",
              "      <td>2.246088</td>\n",
              "      <td>0.228036</td>\n",
              "      <td>0.073205</td>\n",
              "      <td>0.091880</td>\n",
              "      <td>0.078819</td>\n",
              "      <td>0.121534</td>\n",
              "      <td>-1.896240</td>\n",
              "      <td>0.910783</td>\n",
              "      <td>0.931110</td>\n",
              "      <td>2.834518</td>\n",
              "      <td>1.923482</td>\n",
              "    </tr>\n",
              "  </tbody>\n",
              "</table>\n",
              "</div>"
            ],
            "text/plain": [
              "   SaleID    name   regDate  model  ...      v_11      v_12      v_13      v_14\n",
              "0       0     736  20040402   30.0  ...  2.804097 -2.420821  0.795292  0.914762\n",
              "1       1    2262  20030301   40.0  ...  2.096338 -1.030483 -1.722674  0.245522\n",
              "2       2   14874  20040403  115.0  ...  1.803559  1.565330 -0.832687 -0.229963\n",
              "3       3   71865  19960908  109.0  ...  1.285940 -0.501868 -2.438353 -0.478699\n",
              "4       4  111080  20120103  110.0  ...  0.910783  0.931110  2.834518  1.923482\n",
              "\n",
              "[5 rows x 31 columns]"
            ]
          },
          "metadata": {
            "tags": []
          },
          "execution_count": 52
        }
      ]
    },
    {
      "cell_type": "code",
      "metadata": {
        "id": "yMEfARZ5fSmF",
        "colab_type": "code",
        "colab": {
          "base_uri": "https://localhost:8080/",
          "height": 545
        },
        "outputId": "48288039-e84f-45e0-e3d7-73ebe744082b"
      },
      "source": [
        "plt.figure(1)\n",
        "plt.title('price histgram')\n",
        "plt.hist(train_data['price'], color='red')\n",
        "plt.figure(2)\n",
        "plt.title('log(price) histgram')\n",
        "plt.hist(np.log(train_data['price']), color='red')\n",
        "plt.show()"
      ],
      "execution_count": 53,
      "outputs": [
        {
          "output_type": "display_data",
          "data": {
            "image/png": "[encoded data removed]",
            "text/plain": [
              "<Figure size 432x288 with 1 Axes>"
            ]
          },
          "metadata": {
            "tags": [],
            "needs_background": "light"
          }
        },
        {
          "output_type": "display_data",
          "data": {
            "image/png": "[encoded data removed]",
            "text/plain": [
              "<Figure size 432x288 with 1 Axes>"
            ]
          },
          "metadata": {
            "tags": [],
            "needs_background": "light"
          }
        }
      ]
    },
    {
      "cell_type": "code",
      "metadata": {
        "id": "dqaKBAi6f0Oi",
        "colab_type": "code",
        "colab": {}
      },
      "source": [
        "train_data['regDate'] = train_data['regDate'].apply(lambda x: np.floor(x/10000))\n",
        "train_data['creatDate'] = train_data['creatDate'].apply(lambda x: np.floor(x/100))"
      ],
      "execution_count": 54,
      "outputs": []
    },
    {
      "cell_type": "code",
      "metadata": {
        "id": "220yjlhxfSbr",
        "colab_type": "code",
        "colab": {
          "base_uri": "https://localhost:8080/",
          "height": 92
        },
        "outputId": "44801816-9068-4fe2-d484-0bc4e7e757b2"
      },
      "source": [
        "# 去除非数值类型的值\n",
        "#print(train_data['notRepairedDamage'].value_counts())\n",
        "train_data['notRepairedDamage'].replace('-', '0.0', inplace=True)\n",
        "#print(test_data['notRepairedDamage'].value_counts())\n",
        "test_data['notRepairedDamage'].replace('-', '0.0', inplace=True)\n",
        "\n",
        "train_data = train_data.astype('float')\n",
        "test_data = test_data.astype('float')\n",
        "\n",
        "# 提取数值类型的列名\n",
        "numerical_cols = train_data.select_dtypes(exclude='object').columns\n",
        "#print(numerical_cols)\n",
        "# 非数值类型\n",
        "categorical_cols = train_data.select_dtypes(include='object').columns\n",
        "#print(categorical_cols)\n",
        "\n",
        "# 特征选择\n",
        "feature_cols = [col for col in numerical_cols if col not in ['SaleID','price']]\n",
        "print(feature_cols)\n",
        "\n",
        "# extract train_data\n",
        "X_train = train_data[feature_cols]       ###\n",
        "y_data = train_data['price']          ###\n",
        "X_test = test_data[feature_cols]\n",
        "print('train data shape:', X_train.shape)\n",
        "print('test data shape:', X_test.shape)\n",
        "\n",
        "# 缺失值补全\n",
        "X_data = X_train.fillna(-1)\n",
        "X_test = X_test.fillna(-1)"
      ],
      "execution_count": 55,
      "outputs": [
        {
          "output_type": "stream",
          "text": [
            "['name', 'regDate', 'model', 'brand', 'bodyType', 'fuelType', 'gearbox', 'power', 'kilometer', 'notRepairedDamage', 'regionCode', 'seller', 'offerType', 'creatDate', 'v_0', 'v_1', 'v_2', 'v_3', 'v_4', 'v_5', 'v_6', 'v_7', 'v_8', 'v_9', 'v_10', 'v_11', 'v_12', 'v_13', 'v_14']\n",
            "train data shape: (150000, 29)\n",
            "test data shape: (50000, 29)\n"
          ],
          "name": "stdout"
        }
      ]
    },
    {
      "cell_type": "code",
      "metadata": {
        "id": "r1IILl34_N5m",
        "colab_type": "code",
        "colab": {
          "base_uri": "https://localhost:8080/",
          "height": 126
        },
        "outputId": "ef3a6e25-72a8-45fa-d478-5646590a1f47"
      },
      "source": [
        "# 统计函数\n",
        "def show_stats(data):\n",
        "  print('min = ', np.min(data))\n",
        "  print('max = ', np.max(data))\n",
        "  print('max-min = ', np.max(data)-np.min(data))\n",
        "  print('mean = ', np.mean(data))\n",
        "  print('var = ', np.var(data))\n",
        "  print('std = ', np.std(data))\n",
        "  \n",
        "show_stats(y_data)"
      ],
      "execution_count": 56,
      "outputs": [
        {
          "output_type": "stream",
          "text": [
            "min =  11.0\n",
            "max =  99999.0\n",
            "max-min =  99988.0\n",
            "mean =  5923.327333333334\n",
            "var =  56279605.94272992\n",
            "std =  7501.973469876438\n"
          ],
          "name": "stdout"
        }
      ]
    },
    {
      "cell_type": "code",
      "metadata": {
        "id": "eOm5HCM7eBs1",
        "colab_type": "code",
        "colab": {}
      },
      "source": [
        "# 建立模型\n",
        "import xgboost as xgb\n",
        "from sklearn.model_selection import train_test_split\n",
        "from sklearn.metrics import mean_absolute_error   # 平方绝对误差\n",
        "from sklearn.ensemble import GradientBoostingRegressor\n",
        "import lightgbm as lgb\n",
        "\n",
        "X_train, X_valid, y_train, y_valid = train_test_split(X_data, y_data, test_size=0.2, random_state=42)"
      ],
      "execution_count": 57,
      "outputs": []
    },
    {
      "cell_type": "code",
      "metadata": {
        "id": "6otLCZPxnmKz",
        "colab_type": "code",
        "colab": {}
      },
      "source": [
        "# 使用xgboost\n",
        "def build_model_xgb(X_train, y_train):\n",
        "  model = xgb.XGBRegressor(n_estimator=150, learning_rate=0.1, gamma=0, max_depth=7)\n",
        "  # training\n",
        "  model.fit(X_train, y_train)\n",
        "  return model\n",
        "\n",
        "def build_model_gbdt(X_train, y_train):\n",
        "  model = GradientBoostingRegressor(max_depth=7, random_state=10)\n",
        "  model.fit(X_train, y_train)\n",
        "  return model\n",
        "\n",
        "def build_model_lgb(X_train, y_train):\n",
        "  model = lgb.LGBMRegressor(n_estimators=150, num_leaves=127, learning_rate=0.1, reg_alpha=0.1, reg_lambda=0.1)\n",
        "  model.fit(X_train, y_train)\n",
        "  return model"
      ],
      "execution_count": 58,
      "outputs": []
    },
    {
      "cell_type": "code",
      "metadata": {
        "id": "m8N3_-Y48nn2",
        "colab_type": "code",
        "colab": {
          "base_uri": "https://localhost:8080/",
          "height": 73
        },
        "outputId": "e8ac5201-2536-4236-c1a8-f2d3ee9a2db0"
      },
      "source": [
        "xgb_model = build_model_xgb(X_train, y_train)\n",
        "xgb_pred = xgb_model.predict(X_valid)\n",
        "mean_absolute_error(y_valid, xgb_pred)"
      ],
      "execution_count": 59,
      "outputs": [
        {
          "output_type": "stream",
          "text": [
            "[02:30:03] WARNING: /workspace/src/objective/regression_obj.cu:152: reg:linear is now deprecated in favor of reg:squarederror.\n"
          ],
          "name": "stdout"
        },
        {
          "output_type": "execute_result",
          "data": {
            "text/plain": [
              "638.2225448547522"
            ]
          },
          "metadata": {
            "tags": []
          },
          "execution_count": 59
        }
      ]
    },
    {
      "cell_type": "code",
      "metadata": {
        "id": "0hR5wEtF6nLl",
        "colab_type": "code",
        "colab": {
          "base_uri": "https://localhost:8080/",
          "height": 35
        },
        "outputId": "cd272ddf-d206-4ce3-a021-f8cfec0b61b8"
      },
      "source": [
        "lgb_model = build_model_lgb(X_train, y_train)\n",
        "lgb_pred = lgb_model.predict(X_valid)\n",
        "mean_absolute_error(y_valid, lgb_pred)"
      ],
      "execution_count": 60,
      "outputs": [
        {
          "output_type": "execute_result",
          "data": {
            "text/plain": [
              "586.3321150936453"
            ]
          },
          "metadata": {
            "tags": []
          },
          "execution_count": 60
        }
      ]
    },
    {
      "cell_type": "code",
      "metadata": {
        "id": "M1J9SBwc7BEW",
        "colab_type": "code",
        "colab": {
          "base_uri": "https://localhost:8080/",
          "height": 35
        },
        "outputId": "de5b32f5-7aab-4617-99bb-7a220bdf6761"
      },
      "source": [
        "gbdt_model = build_model_gbdt(X_train, y_train)\n",
        "gbdt_pred = gbdt_model.predict(X_valid)\n",
        "mean_absolute_error(y_valid, gbdt_pred)"
      ],
      "execution_count": 61,
      "outputs": [
        {
          "output_type": "execute_result",
          "data": {
            "text/plain": [
              "632.4357101095688"
            ]
          },
          "metadata": {
            "tags": []
          },
          "execution_count": 61
        }
      ]
    },
    {
      "cell_type": "code",
      "metadata": {
        "id": "jYga8qBGsl-J",
        "colab_type": "code",
        "colab": {
          "base_uri": "https://localhost:8080/",
          "height": 35
        },
        "outputId": "79aff593-d505-4519-a1df-c56a697efa94"
      },
      "source": [
        "for i in range(len(xgb_pred)):\n",
        "  if xgb_pred[i] < 0:\n",
        "    xgb_pred[i] = 100\n",
        "  if lgb_pred[i] < 0:\n",
        "    lgb_pred[i] = 100\n",
        "  if gbdt_pred[i] < 0:\n",
        "    gbdt_pred[i] = 100\n",
        "mean_absolute_error(y_valid, xgb_pred)\n",
        "mean_absolute_error(y_valid, lgb_pred)\n",
        "mean_absolute_error(y_valid, gbdt_pred)"
      ],
      "execution_count": 62,
      "outputs": [
        {
          "output_type": "execute_result",
          "data": {
            "text/plain": [
              "632.2186213762991"
            ]
          },
          "metadata": {
            "tags": []
          },
          "execution_count": 62
        }
      ]
    },
    {
      "cell_type": "code",
      "metadata": {
        "id": "2LGSAIdoEYBG",
        "colab_type": "code",
        "colab": {
          "base_uri": "https://localhost:8080/",
          "height": 35
        },
        "outputId": "a22d4a48-2c3a-4e1a-bc43-56be0e5069ba"
      },
      "source": [
        "# 模型融合\n",
        "sum = 586 + 638\n",
        "#y_pred = (586/sum)*abs(xgb_pred) + (632/sum)*abs(gbdt_pred) + (638/sum)*abs(lgb_pred)\n",
        "y_pred = (586/sum)*abs(xgb_pred) + (638/sum)*abs(lgb_pred)\n",
        "#show_stats(y_pred)\n",
        "# 平均绝对误差(MAE)\n",
        "mean_absolute_error(y_valid, y_pred)"
      ],
      "execution_count": 63,
      "outputs": [
        {
          "output_type": "execute_result",
          "data": {
            "text/plain": [
              "592.0746480268913"
            ]
          },
          "metadata": {
            "tags": []
          },
          "execution_count": 63
        }
      ]
    },
    {
      "cell_type": "code",
      "metadata": {
        "id": "D5Tp5LySgr2L",
        "colab_type": "code",
        "colab": {
          "base_uri": "https://localhost:8080/",
          "height": 54
        },
        "outputId": "a566ff21-6bd3-4637-cc1b-bf19970937a4"
      },
      "source": [
        "'''\n",
        "answer = pd.DataFrame()\n",
        "answer['SaleID'] = test_data.SaleID\n",
        "answer['price'] = y_pred\n",
        "answer.to_csv('./ans_xgb.csv', index=False)\n",
        "'''"
      ],
      "execution_count": 64,
      "outputs": [
        {
          "output_type": "execute_result",
          "data": {
            "application/vnd.google.colaboratory.intrinsic+json": {
              "type": "string"
            },
            "text/plain": [
              "\"\\nanswer = pd.DataFrame()\\nanswer['SaleID'] = test_data.SaleID\\nanswer['price'] = y_pred\\nanswer.to_csv('./ans_xgb.csv', index=False)\\n\""
            ]
          },
          "metadata": {
            "tags": []
          },
          "execution_count": 64
        }
      ]
    }
  ]
}